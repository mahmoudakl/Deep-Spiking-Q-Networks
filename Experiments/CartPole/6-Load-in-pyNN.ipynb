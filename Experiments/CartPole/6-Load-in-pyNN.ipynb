{
 "cells": [
  {
   "cell_type": "markdown",
   "metadata": {},
   "source": [
    "## Load in pyNN"
   ]
  },
  {
   "cell_type": "markdown",
   "metadata": {},
   "source": [
    "In this notebook we load some of the pretrained networks in PyNN using both NEST and SpiNNaker as backend.\n",
    "\n",
    "Experiment List:\n",
    "1. DQN-Training (How to train a conventional DQN and a spiking DQN using Surrogate Gradients (DSQN).)\n",
    "2. Load-DQN (How to load a previously saved D(S)QN and how to save a replay dataset.)\n",
    "3. Train-Classifier (How to train a spiking or non-spiking classifier on the saved replay data set.)\n",
    "4. SNN-Conversion (How to convert a DQN and a Classifier to a SNN.)\n",
    "5. Load in NEST (How to load a converted or directly trained spiking network in NEST.)\n",
    "6. Conversion in pyNN with NEST or SpyNNaker (How to load spiking network in pyNN using NEST or SpyNNaker as backend.)"
   ]
  },
  {
   "cell_type": "code",
   "execution_count": 1,
   "metadata": {},
   "outputs": [
    {
     "name": "stdout",
     "output_type": "stream",
     "text": [
      "Detected PyNN version 0.9.5 and Neo version 0.6.1\n"
     ]
    }
   ],
   "source": [
    "import torch\n",
    "import os\n",
    "import sys\n",
    "import random\n",
    "import matplotlib.pyplot as plt\n",
    "# hack to perform relative imports\n",
    "sys.path.append('../../')\n",
    "from Code import PyNNAgent, load_agent, FullyConnected, SQN\n",
    "\n",
    "# set seeds\n",
    "torch.manual_seed(1)\n",
    "random.seed(1)\n",
    "gym_seed = 1\n",
    "\n",
    "# device: automatically runs on GPU, if a GPU is detected, else uses CPU\n",
    "device = torch.device(\"cuda\" if torch.cuda.is_available() else \"cpu\")\n",
    "\n",
    "# switch to the Result Directory\n",
    "os.chdir('./../../Results/')"
   ]
  },
  {
   "cell_type": "markdown",
   "metadata": {},
   "source": [
    "To begin with, we load a network obtained by conversion from a classifier which was obtained in the previous tutorial (SNN-Conversion). In the first experiment, we use NEST as backend."
   ]
  },
  {
   "cell_type": "code",
   "execution_count": null,
   "metadata": {},
   "outputs": [],
   "source": [
    "# specify the file, where the network is saved\n",
    "file = './CartPole-A/Classifier-Converted/model.pt'\n",
    "\n",
    "# set hyperparameters of NEST: \n",
    "# encoding/decoding methods are limited to constant input currents and potential outputs.\n",
    "# set correct architecture\n",
    "architecture = [4,16,16,2]\n",
    "# set simulation time in ms, changing the resolution is not supported in our code\n",
    "simulation_time = 100\n",
    "# the backend can be set to 'nest' or 'spinnaker'. With some modifications the code can also be adjusted to use \n",
    "# native pynn models, the backend would then be specified as 'pynn'.\n",
    "backend = 'nest'\n",
    "\n",
    "# set up network in NEST\n",
    "pynn_agent = PyNNAgent()"
   ]
  }
 ],
 "metadata": {
  "kernelspec": {
   "display_name": "Python 3",
   "language": "python",
   "name": "python3"
  },
  "language_info": {
   "codemirror_mode": {
    "name": "ipython",
    "version": 3
   },
   "file_extension": ".py",
   "mimetype": "text/x-python",
   "name": "python",
   "nbconvert_exporter": "python",
   "pygments_lexer": "ipython3",
   "version": "3.5.2"
  }
 },
 "nbformat": 4,
 "nbformat_minor": 2
}
